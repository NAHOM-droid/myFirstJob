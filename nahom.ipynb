{
  "nbformat": 4,
  "nbformat_minor": 0,
  "metadata": {
    "colab": {
      "name": "nahom.ipynb",
      "provenance": [],
      "authorship_tag": "ABX9TyMWkC3Fce+vaGNt1C5yFOUW",
      "include_colab_link": true
    },
    "kernelspec": {
      "name": "python3",
      "display_name": "Python 3"
    }
  },
  "cells": [
    {
      "cell_type": "markdown",
      "metadata": {
        "id": "view-in-github",
        "colab_type": "text"
      },
      "source": [
        "<a href=\"https://colab.research.google.com/github/NAHOM-droid/myFirstJob/blob/master/nahom.ipynb\" target=\"_parent\"><img src=\"https://colab.research.google.com/assets/colab-badge.svg\" alt=\"Open In Colab\"/></a>"
      ]
    },
    {
      "cell_type": "code",
      "metadata": {
        "id": "wDA_VwWzt2aL",
        "colab_type": "code",
        "colab": {}
      },
      "source": [
        "print(\"nahom\")"
      ],
      "execution_count": 0,
      "outputs": []
    }
  ]
}